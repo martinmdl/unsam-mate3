{
 "cells": [
  {
   "cell_type": "markdown",
   "id": "33bc4e5c",
   "metadata": {},
   "source": [
    "#### 2do parcial Matemática III - 1er. cuatrimestre 2023"
   ]
  },
  {
   "cell_type": "markdown",
   "id": "917ae0db",
   "metadata": {},
   "source": [
    "```\n",
    "1.\tDada la siguiente matriz que determina nodos, pesos y conexiones:\n",
    "```"
   ]
  },
  {
   "cell_type": "markdown",
   "id": "a161683f",
   "metadata": {},
   "source": [
    "<table>\n",
    "\t<thead>\n",
    "\t<tr>\n",
    "\t\t<th></th>\n",
    "\t\t<th>A</th>\n",
    "\t\t<th>B</th>\n",
    "\t\t<th>C</th>\n",
    "\t\t<th>D</th>\n",
    "\t\t<th>E</th>\n",
    "\t\t<th>F</th>\n",
    "\t\t<th>G</th>\n",
    "        <th>H</th>\n",
    "\t</tr>\n",
    "\t</thead>\n",
    "\t<tbody>\n",
    "\t<tr>\n",
    "\t\t<td>A</td>\n",
    "\t\t<td></td>\n",
    "\t\t<td></td>\n",
    "\t\t<td></td>\n",
    "\t\t<td>6</td>\n",
    "\t\t<td></td>\n",
    "\t\t<td></td>\n",
    "\t\t<td></td>\n",
    "        <td>7</td>\n",
    "\t</tr>\n",
    "\t<tr>\n",
    "\t\t<td>B</td>\n",
    "\t\t<td></td>\n",
    "\t\t<td>2</td>\n",
    "\t\t<td>1</td>\n",
    "\t\t<td></td>\n",
    "\t\t<td>3</td>\n",
    "\t\t<td></td>\n",
    "\t\t<td>7</td>\n",
    "        <td></td>\n",
    "\t</tr>\n",
    "\t<tr>\n",
    "\t\t<td>C</td>\n",
    "\t\t<td></td>\n",
    "\t\t<td>3</td>\n",
    "\t\t<td></td>\n",
    "\t\t<td></td>\n",
    "\t\t<td></td>\n",
    "\t\t<td></td>\n",
    "\t\t<td>4</td>\n",
    "        <td></td>\n",
    "\t</tr>\n",
    "\t<tr>\n",
    "        <td>D</td>\n",
    "\t\t<td>1</td>\n",
    "\t\t<td></td>\n",
    "\t\t<td></td>\n",
    "\t\t<td></td>\n",
    "\t\t<td></td>\n",
    "\t\t<td>5</td>\n",
    "\t\t<td>4</td>\n",
    "        <td></td>\n",
    "\t</tr>\n",
    "\t<tr>\n",
    "        <td>E</td>\n",
    "\t\t<td></td>\n",
    "\t\t<td></td>\n",
    "\t\t<td></td>\n",
    "\t\t<td>2</td>\n",
    "\t\t<td>6</td>\n",
    "\t\t<td></td>\n",
    "\t\t<td></td>\n",
    "        <td>1</td>\n",
    "\t</tr>\n",
    "\t<tr>\n",
    "        <td>F</td>\n",
    "\t\t<td></td>\n",
    "\t\t<td></td>\n",
    "\t\t<td></td>\n",
    "\t\t<td></td>\n",
    "\t\t<td></td>\n",
    "\t\t<td></td>\n",
    "\t\t<td>8</td>\n",
    "        <td></td>\n",
    "\t</tr>\n",
    "   \t<tr>\n",
    "        <td>G</td>\n",
    "\t\t<td></td>\n",
    "\t\t<td>2</td>\n",
    "\t\t<td></td>\n",
    "\t\t<td></td>\n",
    "\t\t<td></td>\n",
    "\t\t<td></td>\n",
    "\t\t<td></td>\n",
    "        <td></td>\n",
    "\t</tr>\n",
    "       \t<tr>\n",
    "        <td>H</td>\n",
    "\t\t<td></td>\n",
    "\t\t<td></td>\n",
    "\t\t<td></td>\n",
    "\t\t<td>5</td>\n",
    "\t\t<td></td>\n",
    "\t\t<td></td>\n",
    "\t\t<td></td>\n",
    "        <td></td>\n",
    "\t</tr>\n",
    "\t<tbody>\n",
    "</table>"
   ]
  },
  {
   "cell_type": "markdown",
   "id": "d831b256",
   "metadata": {},
   "source": [
    "```\n",
    "a.\tUtilizando Networkx construir los nodos, enlaces, pesos y graficar.\n",
    "```"
   ]
  },
  {
   "cell_type": "code",
   "execution_count": null,
   "id": "c30e3ab5",
   "metadata": {},
   "outputs": [],
   "source": [
    "import networkx as nx\n",
    "import matplotlib.pyplot as plt\n",
    "import warnings\n",
    "import re\n",
    "warnings.filterwarnings('ignore')\n",
    "\n",
    "aristas = [\n",
    "    ('a', 'd', 6),\n",
    "    ('a', 'h', 7),\n",
    "    ('b', 'b', 2),\n",
    "    ('b', 'c', 1),\n",
    "    ('b', 'e', 3),\n",
    "    ('b', 'g', 7),\n",
    "    ('c', 'b', 3),\n",
    "    ('c', 'g', 4),\n",
    "    ('d', 'a', 1),\n",
    "    ('d', 'f', 5),\n",
    "    ('d', 'g', 4),\n",
    "    ('e', 'd', 2),\n",
    "    ('e', 'e', 6),\n",
    "    ('e', 'h', 1),\n",
    "    ('f', 'g', 8),\n",
    "    ('g', 'b', 2),\n",
    "    ('h', 'd', 1)\n",
    "]\n",
    "\n",
    "def cargar_grafo(name, edges):\n",
    "    name.add_weighted_edges_from(edges)\n",
    "\n",
    "def mostrar_grafo(graph, positions):\n",
    "    labels = nx.get_edge_attributes(graph, 'weight')\n",
    "    nx.draw_networkx_nodes(graph, positions, node_color = 'orange')\n",
    "    nx.draw_networkx_edges(graph, positions, edge_color ='grey', width = 1.5)\n",
    "    nx.draw_networkx_labels(graph, positions, font_size = 10)\n",
    "    nx.draw_networkx_edge_labels(graph, positions, edge_labels = labels)\n",
    "    plt.axis('off')\n",
    "    plt.show()\n",
    "\n",
    "grafo1 = nx.Graph()\n",
    "cargar_grafo(grafo1, aristas)\n",
    "pos1 = nx.shell_layout(grafo1)\n",
    "mostrar_grafo(grafo1, pos1)"
   ]
  },
  {
   "cell_type": "markdown",
   "id": "927d45f0",
   "metadata": {},
   "source": [
    "```\n",
    "b.\tCrear y emitir la matriz de adyacencia: \n",
    "\n",
    "```"
   ]
  },
  {
   "cell_type": "code",
   "execution_count": null,
   "id": "8ced92e4",
   "metadata": {},
   "outputs": [],
   "source": [
    "matriz_adyacencia = nx.adjacency_matrix(grafo1)\n",
    "print(f\"B. Matriz de adyacencia:\\n{matriz_adyacencia.todense()}\")"
   ]
  },
  {
   "cell_type": "markdown",
   "id": "1388de46",
   "metadata": {},
   "source": [
    "```\n",
    "c. Crear y emitir la matriz de incidencia utilizando el atributo de pesos y sin ellos: \n",
    "```"
   ]
  },
  {
   "cell_type": "code",
   "execution_count": null,
   "id": "466765ae",
   "metadata": {},
   "outputs": [],
   "source": [
    "matriz_insidencia = nx.incidence_matrix(grafo1)\n",
    "print(f\"C. Matriz de incidencia:\\n{matriz_insidencia.todense()}\")"
   ]
  },
  {
   "cell_type": "markdown",
   "id": "40d830a0",
   "metadata": {},
   "source": [
    "```\n",
    "d. Emitir la ruta más corta desde 'h':\n",
    "```"
   ]
  },
  {
   "cell_type": "code",
   "execution_count": null,
   "id": "73204bb4",
   "metadata": {},
   "outputs": [],
   "source": [
    "print(f\"D. Ruta mas corta desde 'h':\\n{nx.algorithms.shortest_path(grafo1, 'h')} \")"
   ]
  },
  {
   "cell_type": "markdown",
   "id": "0d025852",
   "metadata": {},
   "source": [
    "```\n",
    "e. Emitir la longitud desde 'h':\n",
    "```"
   ]
  },
  {
   "cell_type": "code",
   "execution_count": null,
   "id": "7fd5de66",
   "metadata": {},
   "outputs": [],
   "source": [
    "print(f\"E. Longitud desde 'h':\\n{nx.single_source_shortest_path_length(grafo1, 'h')}\")"
   ]
  },
  {
   "cell_type": "markdown",
   "id": "e68b730c",
   "metadata": {},
   "source": [
    "```\n",
    "f. Emitir el promedio de la ruta más corta usando el método de bellman-ford:\n",
    "```"
   ]
  },
  {
   "cell_type": "code",
   "execution_count": null,
   "id": "92fb1aa8",
   "metadata": {},
   "outputs": [],
   "source": [
    "print(f\"F. Promedio de la ruta mas corta usando bellman-ford: {nx.algorithms.average_shortest_path_length(grafo1, method='bellman-ford')}\")"
   ]
  },
  {
   "cell_type": "markdown",
   "id": "c013186b",
   "metadata": {},
   "source": [
    "```\n",
    "g. Emitir la ruta ponderada más corta entre 'g' y 'h' usando el algoritmo de Dijkstra:\n",
    "```"
   ]
  },
  {
   "cell_type": "code",
   "execution_count": null,
   "id": "cc0f4f08",
   "metadata": {},
   "outputs": [],
   "source": [
    "print(f\"G. Ruta ponderada mas corta entre 'g' y 'h' usando Dijkstra: {nx.algorithms.dijkstra_path(grafo1, 'g', 'h')}\")"
   ]
  },
  {
   "cell_type": "markdown",
   "id": "d415feb3",
   "metadata": {},
   "source": [
    "```\n",
    "h. Emitir la longitud de la ruta ponderada entre 'h' y 'g'  utilizando Dijkstra:\n",
    "```"
   ]
  },
  {
   "cell_type": "code",
   "execution_count": null,
   "id": "b6ecf014",
   "metadata": {},
   "outputs": [],
   "source": [
    "print(f\"H. Longitud de ruta ponderada entre 'h' y 'g' usando Dijkstra: {nx.dijkstra_path_length(grafo1, 'h', 'g')}\")"
   ]
  },
  {
   "cell_type": "markdown",
   "id": "c136f9a3",
   "metadata": {},
   "source": [
    "```\n",
    "i. Emitir la longitud de la ruta desde el nodo 'c' utilizando Dijkstra:\n",
    "```"
   ]
  },
  {
   "cell_type": "code",
   "execution_count": null,
   "id": "0f602f29",
   "metadata": {},
   "outputs": [],
   "source": [
    "print(f\"I. Longitud de la ruta desde el nodo 'c' usando Dijkstra: {nx.single_source_dijkstra_path_length(grafo1,'c')}\")"
   ]
  },
  {
   "cell_type": "markdown",
   "id": "f295df88",
   "metadata": {},
   "source": [
    "```\n",
    "2.\tCrear en python la clase tarjeta. Atributos: Número, titular, saldo, fecha de vencimiento, clave de seguridad, clave, entidad emisora, estado (activa o no), etc. Métodos: activar, pagar, renovar, anular, etc.\n",
    "```"
   ]
  },
  {
   "cell_type": "code",
   "execution_count": null,
   "id": "6e01e7b3",
   "metadata": {},
   "outputs": [],
   "source": [
    "class Tarjeta:\n",
    "\n",
    "    def __init__(\n",
    "        self,\n",
    "        numero,\n",
    "        titular,\n",
    "        saldo, \n",
    "        fechaVencimiento,\n",
    "        claveSeguridad,\n",
    "        clave,\n",
    "        entidadEmisora,\n",
    "        estado\n",
    "    ):\n",
    "        self.numero = numero\n",
    "        self.titular = titular\n",
    "        self.saldo = saldo\n",
    "        self.fechaVencimiento = fechaVencimiento\n",
    "        self.claveSeguridad = claveSeguridad\n",
    "        self.clave = clave\n",
    "        self.entidadEmisora = entidadEmisora\n",
    "        self.estado = estado\n",
    "\n",
    "        def pagar(self, monto):\n",
    "            if saldo - monto >= 0:\n",
    "                self.saldo = self.saldo - monto\n",
    "            else:\n",
    "                print(\"Saldo insuficiente\")\n",
    "\n",
    "        def renovar(self, nuevaFechaVencimiento):\n",
    "            self.fechaVencimiento = nuevaFechaVencimiento\n",
    "\n",
    "        def anular(self):\n",
    "            self.numero = 0\n",
    "            self.titular = 0\n",
    "            self.saldo = 0\n",
    "            self.fechaVencimiento = 0\n",
    "            self.claveSeguridad = 0\n",
    "            self.clave = 0\n",
    "            self.entidadEmisora = 0\n",
    "            self.estado = 0"
   ]
  },
  {
   "cell_type": "markdown",
   "id": "6d686cce",
   "metadata": {},
   "source": [
    "```\n",
    "3.\tDadas las siguientes líneas de texto:\n",
    "\n",
    "1;Juan Lopez;3400;Con Garantia;25;6;2022;2;1700;357;2059\n",
    "2;Maria Sosa;2500;A sola firma;5;8;2022;3;833,3333333;175;1011,333333\n",
    "3;Jose Rosas;750;A sola firma;8;7;2022;5;150;31,5;186,5\n",
    "4;Mario Garcia;1200;A sola firma;21;6;2022;5;240;50,4;295,4\n",
    "5;Cecilia Perez;4500;A sola firma;9;7;2022;3;1500;315;1818\n",
    "6;Laura Soria;3850;Con Garantia;19;7;2022;4;962,5;202,125;1168,625\n",
    "7;Juana Alvez;2600;A sola firma;12;7;2022;2;1300;273;1575\n",
    "8;Walter Miranda;1750;Con Garantia;24;7;2022;4;437,5;91,875;533,375\n",
    "\n",
    "Hallar la expresión regular para extraer:\n",
    "\n",
    "['Con Garantia', 'A sola firma', 'A sola firma', 'A sola firma', 'A sola firma', 'Con Garantia', 'A sola firma', 'Con Garantia']\n",
    "```"
   ]
  },
  {
   "cell_type": "code",
   "execution_count": null,
   "id": "d37e7797",
   "metadata": {},
   "outputs": [],
   "source": [
    "match = r\"[A-Z]{1,1}[a-z]{0,2}\\s[A-Za-z ]+\"\n",
    "texto = \"\"\"\n",
    "1;Juan Lopez;3400;Con Garantia;25;6;2022;2;170;357;2059\n",
    "2;Maria Sosa;2500;A sola firma;5;8;2022;3;833,3333333;175;1011,333333\n",
    "3;Jose Rosas;750;A sola firma;8;7;2022;5;150;31,5;186,5\n",
    "4;Mario Garcia;1200;A sola firma;21;6;2022;5;240;50,4;295,4\n",
    "5;Cecilia Perez;4500;A sola firma;9;7;2022;3;1500;315;1818\n",
    "6;Laura Soria;3850;Con Garantia;19;7;2022;4;962,5;202,125;1168,625\n",
    "7;Juana Alvez;2600;A sola firma;12;7;2022;2;10300;273;1575\n",
    "8;Walter Miranda;1750;Con Garantia;24;7;2022;4;437,5;91,875;533,375\n",
    "\"\"\"\n",
    "\n",
    "encontrado = re.findall(match, texto)\n",
    "for linea in encontrado:\n",
    "    print(linea)"
   ]
  }
 ],
 "metadata": {
  "kernelspec": {
   "display_name": "Python 3 (ipykernel)",
   "language": "python",
   "name": "python3"
  },
  "language_info": {
   "codemirror_mode": {
    "name": "ipython",
    "version": 3
   },
   "file_extension": ".py",
   "mimetype": "text/x-python",
   "name": "python",
   "nbconvert_exporter": "python",
   "pygments_lexer": "ipython3",
   "version": "3.9.12"
  }
 },
 "nbformat": 4,
 "nbformat_minor": 5
}
